{
 "cells": [
  {
   "cell_type": "code",
   "execution_count": 1,
   "metadata": {},
   "outputs": [],
   "source": [
    "import pandas as pd\n",
    "import numpy as np\n",
    "import matplotlib.pyplot as plt"
   ]
  },
  {
   "cell_type": "markdown",
   "metadata": {},
   "source": [
    "We've import the libraries. This notebook uses various Python libraries to make prediction weather a flower is an iris or not based on its data. \n",
    "\n",
    "What we're going to cover:\n",
    "\n",
    "0. Get the data ready\n",
    "1. Do exploratory data analysis(EDA)\n",
    "2. Preprocess the data with Sklearn\n",
    "3. Choose the alogorirtm, make prediciton\n",
    "4. Evaluate the model\n",
    "5. Improve the model\n",
    "6. Save the model"
   ]
  },
  {
   "cell_type": "markdown",
   "metadata": {},
   "source": [
    "Since this is a beginner project. I will try my best. My goal is to reach prediction of 85%"
   ]
  },
  {
   "cell_type": "markdown",
   "metadata": {},
   "source": [
    "# 0. Get the data ready"
   ]
  },
  {
   "cell_type": "code",
   "execution_count": 2,
   "metadata": {},
   "outputs": [],
   "source": [
    "from sklearn import datasets\n",
    "\n",
    "iris = datasets.load_iris()\n",
    "iris_df = pd.DataFrame(iris.data)\n",
    "iris_df['class'] = iris.target"
   ]
  },
  {
   "cell_type": "code",
   "execution_count": 3,
   "metadata": {},
   "outputs": [
    {
     "data": {
      "text/html": [
       "<div>\n",
       "<style scoped>\n",
       "    .dataframe tbody tr th:only-of-type {\n",
       "        vertical-align: middle;\n",
       "    }\n",
       "\n",
       "    .dataframe tbody tr th {\n",
       "        vertical-align: top;\n",
       "    }\n",
       "\n",
       "    .dataframe thead th {\n",
       "        text-align: right;\n",
       "    }\n",
       "</style>\n",
       "<table border=\"1\" class=\"dataframe\">\n",
       "  <thead>\n",
       "    <tr style=\"text-align: right;\">\n",
       "      <th></th>\n",
       "      <th>0</th>\n",
       "      <th>1</th>\n",
       "      <th>2</th>\n",
       "      <th>3</th>\n",
       "      <th>class</th>\n",
       "    </tr>\n",
       "  </thead>\n",
       "  <tbody>\n",
       "    <tr>\n",
       "      <th>0</th>\n",
       "      <td>5.1</td>\n",
       "      <td>3.5</td>\n",
       "      <td>1.4</td>\n",
       "      <td>0.2</td>\n",
       "      <td>0</td>\n",
       "    </tr>\n",
       "    <tr>\n",
       "      <th>1</th>\n",
       "      <td>4.9</td>\n",
       "      <td>3.0</td>\n",
       "      <td>1.4</td>\n",
       "      <td>0.2</td>\n",
       "      <td>0</td>\n",
       "    </tr>\n",
       "    <tr>\n",
       "      <th>2</th>\n",
       "      <td>4.7</td>\n",
       "      <td>3.2</td>\n",
       "      <td>1.3</td>\n",
       "      <td>0.2</td>\n",
       "      <td>0</td>\n",
       "    </tr>\n",
       "    <tr>\n",
       "      <th>3</th>\n",
       "      <td>4.6</td>\n",
       "      <td>3.1</td>\n",
       "      <td>1.5</td>\n",
       "      <td>0.2</td>\n",
       "      <td>0</td>\n",
       "    </tr>\n",
       "    <tr>\n",
       "      <th>4</th>\n",
       "      <td>5.0</td>\n",
       "      <td>3.6</td>\n",
       "      <td>1.4</td>\n",
       "      <td>0.2</td>\n",
       "      <td>0</td>\n",
       "    </tr>\n",
       "    <tr>\n",
       "      <th>...</th>\n",
       "      <td>...</td>\n",
       "      <td>...</td>\n",
       "      <td>...</td>\n",
       "      <td>...</td>\n",
       "      <td>...</td>\n",
       "    </tr>\n",
       "    <tr>\n",
       "      <th>145</th>\n",
       "      <td>6.7</td>\n",
       "      <td>3.0</td>\n",
       "      <td>5.2</td>\n",
       "      <td>2.3</td>\n",
       "      <td>2</td>\n",
       "    </tr>\n",
       "    <tr>\n",
       "      <th>146</th>\n",
       "      <td>6.3</td>\n",
       "      <td>2.5</td>\n",
       "      <td>5.0</td>\n",
       "      <td>1.9</td>\n",
       "      <td>2</td>\n",
       "    </tr>\n",
       "    <tr>\n",
       "      <th>147</th>\n",
       "      <td>6.5</td>\n",
       "      <td>3.0</td>\n",
       "      <td>5.2</td>\n",
       "      <td>2.0</td>\n",
       "      <td>2</td>\n",
       "    </tr>\n",
       "    <tr>\n",
       "      <th>148</th>\n",
       "      <td>6.2</td>\n",
       "      <td>3.4</td>\n",
       "      <td>5.4</td>\n",
       "      <td>2.3</td>\n",
       "      <td>2</td>\n",
       "    </tr>\n",
       "    <tr>\n",
       "      <th>149</th>\n",
       "      <td>5.9</td>\n",
       "      <td>3.0</td>\n",
       "      <td>5.1</td>\n",
       "      <td>1.8</td>\n",
       "      <td>2</td>\n",
       "    </tr>\n",
       "  </tbody>\n",
       "</table>\n",
       "<p>150 rows × 5 columns</p>\n",
       "</div>"
      ],
      "text/plain": [
       "       0    1    2    3  class\n",
       "0    5.1  3.5  1.4  0.2      0\n",
       "1    4.9  3.0  1.4  0.2      0\n",
       "2    4.7  3.2  1.3  0.2      0\n",
       "3    4.6  3.1  1.5  0.2      0\n",
       "4    5.0  3.6  1.4  0.2      0\n",
       "..   ...  ...  ...  ...    ...\n",
       "145  6.7  3.0  5.2  2.3      2\n",
       "146  6.3  2.5  5.0  1.9      2\n",
       "147  6.5  3.0  5.2  2.0      2\n",
       "148  6.2  3.4  5.4  2.3      2\n",
       "149  5.9  3.0  5.1  1.8      2\n",
       "\n",
       "[150 rows x 5 columns]"
      ]
     },
     "execution_count": 3,
     "metadata": {},
     "output_type": "execute_result"
    }
   ],
   "source": [
    "iris_df"
   ]
  },
  {
   "cell_type": "code",
   "execution_count": 4,
   "metadata": {},
   "outputs": [],
   "source": [
    "iris_df.columns=['sepal_len', 'sepal_wid', 'petal_len', 'petal_wid', 'class']"
   ]
  },
  {
   "cell_type": "code",
   "execution_count": 5,
   "metadata": {},
   "outputs": [
    {
     "data": {
      "text/html": [
       "<div>\n",
       "<style scoped>\n",
       "    .dataframe tbody tr th:only-of-type {\n",
       "        vertical-align: middle;\n",
       "    }\n",
       "\n",
       "    .dataframe tbody tr th {\n",
       "        vertical-align: top;\n",
       "    }\n",
       "\n",
       "    .dataframe thead th {\n",
       "        text-align: right;\n",
       "    }\n",
       "</style>\n",
       "<table border=\"1\" class=\"dataframe\">\n",
       "  <thead>\n",
       "    <tr style=\"text-align: right;\">\n",
       "      <th></th>\n",
       "      <th>sepal_len</th>\n",
       "      <th>sepal_wid</th>\n",
       "      <th>petal_len</th>\n",
       "      <th>petal_wid</th>\n",
       "      <th>class</th>\n",
       "    </tr>\n",
       "  </thead>\n",
       "  <tbody>\n",
       "    <tr>\n",
       "      <th>0</th>\n",
       "      <td>5.1</td>\n",
       "      <td>3.5</td>\n",
       "      <td>1.4</td>\n",
       "      <td>0.2</td>\n",
       "      <td>0</td>\n",
       "    </tr>\n",
       "    <tr>\n",
       "      <th>1</th>\n",
       "      <td>4.9</td>\n",
       "      <td>3.0</td>\n",
       "      <td>1.4</td>\n",
       "      <td>0.2</td>\n",
       "      <td>0</td>\n",
       "    </tr>\n",
       "    <tr>\n",
       "      <th>2</th>\n",
       "      <td>4.7</td>\n",
       "      <td>3.2</td>\n",
       "      <td>1.3</td>\n",
       "      <td>0.2</td>\n",
       "      <td>0</td>\n",
       "    </tr>\n",
       "    <tr>\n",
       "      <th>3</th>\n",
       "      <td>4.6</td>\n",
       "      <td>3.1</td>\n",
       "      <td>1.5</td>\n",
       "      <td>0.2</td>\n",
       "      <td>0</td>\n",
       "    </tr>\n",
       "    <tr>\n",
       "      <th>4</th>\n",
       "      <td>5.0</td>\n",
       "      <td>3.6</td>\n",
       "      <td>1.4</td>\n",
       "      <td>0.2</td>\n",
       "      <td>0</td>\n",
       "    </tr>\n",
       "    <tr>\n",
       "      <th>...</th>\n",
       "      <td>...</td>\n",
       "      <td>...</td>\n",
       "      <td>...</td>\n",
       "      <td>...</td>\n",
       "      <td>...</td>\n",
       "    </tr>\n",
       "    <tr>\n",
       "      <th>145</th>\n",
       "      <td>6.7</td>\n",
       "      <td>3.0</td>\n",
       "      <td>5.2</td>\n",
       "      <td>2.3</td>\n",
       "      <td>2</td>\n",
       "    </tr>\n",
       "    <tr>\n",
       "      <th>146</th>\n",
       "      <td>6.3</td>\n",
       "      <td>2.5</td>\n",
       "      <td>5.0</td>\n",
       "      <td>1.9</td>\n",
       "      <td>2</td>\n",
       "    </tr>\n",
       "    <tr>\n",
       "      <th>147</th>\n",
       "      <td>6.5</td>\n",
       "      <td>3.0</td>\n",
       "      <td>5.2</td>\n",
       "      <td>2.0</td>\n",
       "      <td>2</td>\n",
       "    </tr>\n",
       "    <tr>\n",
       "      <th>148</th>\n",
       "      <td>6.2</td>\n",
       "      <td>3.4</td>\n",
       "      <td>5.4</td>\n",
       "      <td>2.3</td>\n",
       "      <td>2</td>\n",
       "    </tr>\n",
       "    <tr>\n",
       "      <th>149</th>\n",
       "      <td>5.9</td>\n",
       "      <td>3.0</td>\n",
       "      <td>5.1</td>\n",
       "      <td>1.8</td>\n",
       "      <td>2</td>\n",
       "    </tr>\n",
       "  </tbody>\n",
       "</table>\n",
       "<p>150 rows × 5 columns</p>\n",
       "</div>"
      ],
      "text/plain": [
       "     sepal_len  sepal_wid  petal_len  petal_wid  class\n",
       "0          5.1        3.5        1.4        0.2      0\n",
       "1          4.9        3.0        1.4        0.2      0\n",
       "2          4.7        3.2        1.3        0.2      0\n",
       "3          4.6        3.1        1.5        0.2      0\n",
       "4          5.0        3.6        1.4        0.2      0\n",
       "..         ...        ...        ...        ...    ...\n",
       "145        6.7        3.0        5.2        2.3      2\n",
       "146        6.3        2.5        5.0        1.9      2\n",
       "147        6.5        3.0        5.2        2.0      2\n",
       "148        6.2        3.4        5.4        2.3      2\n",
       "149        5.9        3.0        5.1        1.8      2\n",
       "\n",
       "[150 rows x 5 columns]"
      ]
     },
     "execution_count": 5,
     "metadata": {},
     "output_type": "execute_result"
    }
   ],
   "source": [
    "iris_df"
   ]
  },
  {
   "cell_type": "code",
   "execution_count": 6,
   "metadata": {},
   "outputs": [
    {
     "data": {
      "text/plain": [
       "(150, 5)"
      ]
     },
     "execution_count": 6,
     "metadata": {},
     "output_type": "execute_result"
    }
   ],
   "source": [
    "iris_df.shape"
   ]
  },
  {
   "cell_type": "markdown",
   "metadata": {},
   "source": [
    "The iris datasets contain 5 rows which are: sepal_len, sepal_wid, petal_len, petal_wid, class."
   ]
  },
  {
   "cell_type": "code",
   "execution_count": 7,
   "metadata": {},
   "outputs": [
    {
     "data": {
      "text/plain": [
       "sepal_len    0\n",
       "sepal_wid    0\n",
       "petal_len    0\n",
       "petal_wid    0\n",
       "class        0\n",
       "dtype: int64"
      ]
     },
     "execution_count": 7,
     "metadata": {},
     "output_type": "execute_result"
    }
   ],
   "source": [
    "iris_df.isna().sum()"
   ]
  },
  {
   "cell_type": "markdown",
   "metadata": {},
   "source": [
    "# 1. EDA"
   ]
  },
  {
   "cell_type": "markdown",
   "metadata": {},
   "source": [
    "We will try to answer these questions:\n",
    "\n",
    "1. Does sepal lenngth affect the petal length?"
   ]
  },
  {
   "cell_type": "code",
   "execution_count": 8,
   "metadata": {},
   "outputs": [
    {
     "data": {
      "text/plain": [
       "sepal_len    5.1\n",
       "sepal_wid    3.5\n",
       "petal_len    1.4\n",
       "petal_wid    0.2\n",
       "class        0.0\n",
       "Name: 0, dtype: float64"
      ]
     },
     "execution_count": 8,
     "metadata": {},
     "output_type": "execute_result"
    }
   ],
   "source": [
    "iris_df.loc[0]"
   ]
  },
  {
   "cell_type": "code",
   "execution_count": 9,
   "metadata": {},
   "outputs": [
    {
     "data": {
      "text/plain": [
       "<matplotlib.axes._subplots.AxesSubplot at 0x2341543d5b0>"
      ]
     },
     "execution_count": 9,
     "metadata": {},
     "output_type": "execute_result"
    },
    {
     "data": {
      "image/png": "[encoded data removed]",
      "text/plain": [
       "<Figure size 432x288 with 1 Axes>"
      ]
     },
     "metadata": {
      "needs_background": "light"
     },
     "output_type": "display_data"
    }
   ],
   "source": [
    "# Let's view the target column\n",
    "iris_df['class'].value_counts().plot(kind='bar', color=['salmon','lightblue','yellow'])"
   ]
  },
  {
   "cell_type": "code",
   "execution_count": 10,
   "metadata": {},
   "outputs": [
    {
     "data": {
      "text/html": [
       "<div>\n",
       "<style scoped>\n",
       "    .dataframe tbody tr th:only-of-type {\n",
       "        vertical-align: middle;\n",
       "    }\n",
       "\n",
       "    .dataframe tbody tr th {\n",
       "        vertical-align: top;\n",
       "    }\n",
       "\n",
       "    .dataframe thead th {\n",
       "        text-align: right;\n",
       "    }\n",
       "</style>\n",
       "<table border=\"1\" class=\"dataframe\">\n",
       "  <thead>\n",
       "    <tr style=\"text-align: right;\">\n",
       "      <th></th>\n",
       "      <th>sepal_len</th>\n",
       "      <th>sepal_wid</th>\n",
       "      <th>petal_len</th>\n",
       "      <th>petal_wid</th>\n",
       "      <th>class</th>\n",
       "    </tr>\n",
       "  </thead>\n",
       "  <tbody>\n",
       "    <tr>\n",
       "      <th>count</th>\n",
       "      <td>150.000000</td>\n",
       "      <td>150.000000</td>\n",
       "      <td>150.000000</td>\n",
       "      <td>150.000000</td>\n",
       "      <td>150.000000</td>\n",
       "    </tr>\n",
       "    <tr>\n",
       "      <th>mean</th>\n",
       "      <td>5.843333</td>\n",
       "      <td>3.057333</td>\n",
       "      <td>3.758000</td>\n",
       "      <td>1.199333</td>\n",
       "      <td>1.000000</td>\n",
       "    </tr>\n",
       "    <tr>\n",
       "      <th>std</th>\n",
       "      <td>0.828066</td>\n",
       "      <td>0.435866</td>\n",
       "      <td>1.765298</td>\n",
       "      <td>0.762238</td>\n",
       "      <td>0.819232</td>\n",
       "    </tr>\n",
       "    <tr>\n",
       "      <th>min</th>\n",
       "      <td>4.300000</td>\n",
       "      <td>2.000000</td>\n",
       "      <td>1.000000</td>\n",
       "      <td>0.100000</td>\n",
       "      <td>0.000000</td>\n",
       "    </tr>\n",
       "    <tr>\n",
       "      <th>25%</th>\n",
       "      <td>5.100000</td>\n",
       "      <td>2.800000</td>\n",
       "      <td>1.600000</td>\n",
       "      <td>0.300000</td>\n",
       "      <td>0.000000</td>\n",
       "    </tr>\n",
       "    <tr>\n",
       "      <th>50%</th>\n",
       "      <td>5.800000</td>\n",
       "      <td>3.000000</td>\n",
       "      <td>4.350000</td>\n",
       "      <td>1.300000</td>\n",
       "      <td>1.000000</td>\n",
       "    </tr>\n",
       "    <tr>\n",
       "      <th>75%</th>\n",
       "      <td>6.400000</td>\n",
       "      <td>3.300000</td>\n",
       "      <td>5.100000</td>\n",
       "      <td>1.800000</td>\n",
       "      <td>2.000000</td>\n",
       "    </tr>\n",
       "    <tr>\n",
       "      <th>max</th>\n",
       "      <td>7.900000</td>\n",
       "      <td>4.400000</td>\n",
       "      <td>6.900000</td>\n",
       "      <td>2.500000</td>\n",
       "      <td>2.000000</td>\n",
       "    </tr>\n",
       "  </tbody>\n",
       "</table>\n",
       "</div>"
      ],
      "text/plain": [
       "        sepal_len   sepal_wid   petal_len   petal_wid       class\n",
       "count  150.000000  150.000000  150.000000  150.000000  150.000000\n",
       "mean     5.843333    3.057333    3.758000    1.199333    1.000000\n",
       "std      0.828066    0.435866    1.765298    0.762238    0.819232\n",
       "min      4.300000    2.000000    1.000000    0.100000    0.000000\n",
       "25%      5.100000    2.800000    1.600000    0.300000    0.000000\n",
       "50%      5.800000    3.000000    4.350000    1.300000    1.000000\n",
       "75%      6.400000    3.300000    5.100000    1.800000    2.000000\n",
       "max      7.900000    4.400000    6.900000    2.500000    2.000000"
      ]
     },
     "execution_count": 10,
     "metadata": {},
     "output_type": "execute_result"
    }
   ],
   "source": [
    "iris_df.describe()"
   ]
  },
  {
   "cell_type": "markdown",
   "metadata": {},
   "source": [
    "Does each class has certain attributes?"
   ]
  },
  {
   "cell_type": "code",
   "execution_count": 11,
   "metadata": {},
   "outputs": [
    {
     "data": {
      "image/png": "[encoded data removed]",
      "text/plain": [
       "<Figure size 432x288 with 1 Axes>"
      ]
     },
     "metadata": {
      "needs_background": "light"
     },
     "output_type": "display_data"
    }
   ],
   "source": [
    "iris_df.groupby('class').sepal_len.mean().plot(kind='bar', color=['salmon','lightblue','brown']);"
   ]
  },
  {
   "cell_type": "markdown",
   "metadata": {},
   "source": [
    "Class 2 has the highest mean of sepal_len. Following order is class 1 and 0."
   ]
  },
  {
   "cell_type": "code",
   "execution_count": 12,
   "metadata": {},
   "outputs": [
    {
     "data": {
      "image/png": "[encoded data removed]",
      "text/plain": [
       "<Figure size 432x288 with 1 Axes>"
      ]
     },
     "metadata": {
      "needs_background": "light"
     },
     "output_type": "display_data"
    }
   ],
   "source": [
    "iris_df.groupby('class').sepal_wid.mean().plot(kind='bar',color=['salmon','lightblue','brown']);"
   ]
  },
  {
   "cell_type": "markdown",
   "metadata": {},
   "source": [
    "Class 0 has the highest mean of sepal_wid. Following order is class 2 and 1."
   ]
  },
  {
   "cell_type": "code",
   "execution_count": 13,
   "metadata": {},
   "outputs": [
    {
     "data": {
      "image/png": "[encoded data removed]",
      "text/plain": [
       "<Figure size 432x288 with 1 Axes>"
      ]
     },
     "metadata": {
      "needs_background": "light"
     },
     "output_type": "display_data"
    }
   ],
   "source": [
    "iris_df.groupby('class').petal_len.mean().plot(kind='bar',color=['salmon','lightblue','brown']);"
   ]
  },
  {
   "cell_type": "code",
   "execution_count": 14,
   "metadata": {},
   "outputs": [
    {
     "data": {
      "text/plain": [
       "<matplotlib.axes._subplots.AxesSubplot at 0x23415874e20>"
      ]
     },
     "execution_count": 14,
     "metadata": {},
     "output_type": "execute_result"
    },
    {
     "data": {
      "image/png": "[encoded data removed]",
      "text/plain": [
       "<Figure size 432x288 with 1 Axes>"
      ]
     },
     "metadata": {
      "needs_background": "light"
     },
     "output_type": "display_data"
    }
   ],
   "source": [
    "iris_df.groupby('class').petal_wid.mean().plot(kind='bar', color=['salmon','lightblue','brown'])"
   ]
  },
  {
   "cell_type": "markdown",
   "metadata": {},
   "source": [
    "The sepal width of non iris seems bigger than others"
   ]
  },
  {
   "cell_type": "code",
   "execution_count": 15,
   "metadata": {},
   "outputs": [
    {
     "data": {
      "image/png": "[encoded data removed]",
      "text/plain": [
       "<Figure size 720x720 with 1 Axes>"
      ]
     },
     "metadata": {
      "needs_background": "light"
     },
     "output_type": "display_data"
    }
   ],
   "source": [
    "# sepal_wid vs sepal_len\n",
    "plt.figure(figsize=((10,10)))\n",
    "plt.scatter(iris_df.sepal_len[iris_df['class']==0],\n",
    "           iris_df.sepal_wid[iris_df['class']==0], color='salmon')\n",
    "plt.scatter(iris_df.sepal_len[iris_df['class']==1],\n",
    "           iris_df.sepal_wid[iris_df['class']==1], color='lightblue')\n",
    "plt.scatter(iris_df.sepal_len[iris_df['class']==2],\n",
    "           iris_df.sepal_wid[iris_df['class']==2],color='green')\n",
    "plt.title('Iris flowers in terms of sepal length and sepal width')\n",
    "plt.xlabel('Sepal length')\n",
    "plt.ylabel('Sepal width')\n",
    "plt.legend(['Class 0', 'Class 1', 'Class 2']);"
   ]
  },
  {
   "cell_type": "code",
   "execution_count": 16,
   "metadata": {},
   "outputs": [
    {
     "data": {
      "text/html": [
       "<div>\n",
       "<style scoped>\n",
       "    .dataframe tbody tr th:only-of-type {\n",
       "        vertical-align: middle;\n",
       "    }\n",
       "\n",
       "    .dataframe tbody tr th {\n",
       "        vertical-align: top;\n",
       "    }\n",
       "\n",
       "    .dataframe thead th {\n",
       "        text-align: right;\n",
       "    }\n",
       "</style>\n",
       "<table border=\"1\" class=\"dataframe\">\n",
       "  <thead>\n",
       "    <tr style=\"text-align: right;\">\n",
       "      <th></th>\n",
       "      <th>sepal_len</th>\n",
       "      <th>sepal_wid</th>\n",
       "      <th>petal_len</th>\n",
       "      <th>petal_wid</th>\n",
       "      <th>class</th>\n",
       "    </tr>\n",
       "  </thead>\n",
       "  <tbody>\n",
       "    <tr>\n",
       "      <th>sepal_len</th>\n",
       "      <td>1.000000</td>\n",
       "      <td>-0.117570</td>\n",
       "      <td>0.871754</td>\n",
       "      <td>0.817941</td>\n",
       "      <td>0.782561</td>\n",
       "    </tr>\n",
       "    <tr>\n",
       "      <th>sepal_wid</th>\n",
       "      <td>-0.117570</td>\n",
       "      <td>1.000000</td>\n",
       "      <td>-0.428440</td>\n",
       "      <td>-0.366126</td>\n",
       "      <td>-0.426658</td>\n",
       "    </tr>\n",
       "    <tr>\n",
       "      <th>petal_len</th>\n",
       "      <td>0.871754</td>\n",
       "      <td>-0.428440</td>\n",
       "      <td>1.000000</td>\n",
       "      <td>0.962865</td>\n",
       "      <td>0.949035</td>\n",
       "    </tr>\n",
       "    <tr>\n",
       "      <th>petal_wid</th>\n",
       "      <td>0.817941</td>\n",
       "      <td>-0.366126</td>\n",
       "      <td>0.962865</td>\n",
       "      <td>1.000000</td>\n",
       "      <td>0.956547</td>\n",
       "    </tr>\n",
       "    <tr>\n",
       "      <th>class</th>\n",
       "      <td>0.782561</td>\n",
       "      <td>-0.426658</td>\n",
       "      <td>0.949035</td>\n",
       "      <td>0.956547</td>\n",
       "      <td>1.000000</td>\n",
       "    </tr>\n",
       "  </tbody>\n",
       "</table>\n",
       "</div>"
      ],
      "text/plain": [
       "           sepal_len  sepal_wid  petal_len  petal_wid     class\n",
       "sepal_len   1.000000  -0.117570   0.871754   0.817941  0.782561\n",
       "sepal_wid  -0.117570   1.000000  -0.428440  -0.366126 -0.426658\n",
       "petal_len   0.871754  -0.428440   1.000000   0.962865  0.949035\n",
       "petal_wid   0.817941  -0.366126   0.962865   1.000000  0.956547\n",
       "class       0.782561  -0.426658   0.949035   0.956547  1.000000"
      ]
     },
     "execution_count": 16,
     "metadata": {},
     "output_type": "execute_result"
    }
   ],
   "source": [
    "iris_df.corr()"
   ]
  },
  {
   "cell_type": "code",
   "execution_count": 17,
   "metadata": {},
   "outputs": [],
   "source": [
    "import seaborn as sns"
   ]
  },
  {
   "cell_type": "code",
   "execution_count": 18,
   "metadata": {},
   "outputs": [
    {
     "data": {
      "image/png": "[encoded data removed]",
      "text/plain": [
       "<Figure size 720x432 with 2 Axes>"
      ]
     },
     "metadata": {
      "needs_background": "light"
     },
     "output_type": "display_data"
    }
   ],
   "source": [
    "corr_matrix = iris_df.corr()\n",
    "fig, ax = plt.subplots(figsize=(10,6))\n",
    "ax = sns.heatmap(corr_matrix,\n",
    "                annot= True,\n",
    "                linewidths=0.5,\n",
    "                fmt=\".2f\",\n",
    "                cmap='YlGnBu');"
   ]
  },
  {
   "cell_type": "markdown",
   "metadata": {},
   "source": [
    "# 3. Modeling(we skip #2 for now)"
   ]
  },
  {
   "cell_type": "code",
   "execution_count": 19,
   "metadata": {},
   "outputs": [],
   "source": [
    "# Models from scikit-learn\n",
    "from sklearn.linear_model import LogisticRegression\n",
    "from sklearn.neighbors import KNeighborsClassifier\n",
    "from sklearn.ensemble import RandomForestClassifier\n",
    "# Model evaluation form sklearn\n",
    "from sklearn.model_selection import train_test_split\n",
    "from sklearn.model_selection import RandomizedSearchCV, GridSearchCV\n",
    "from sklearn.metrics import confusion_matrix, classification_report\n",
    "from sklearn.metrics import precision_score, recall_score, f1_score\n",
    "from sklearn.metrics import plot_roc_curve"
   ]
  },
  {
   "cell_type": "code",
   "execution_count": 20,
   "metadata": {},
   "outputs": [],
   "source": [
    "# Split into train and test data\n",
    "X = iris_df.drop('class',axis=1)\n",
    "y = iris_df['class']"
   ]
  },
  {
   "cell_type": "code",
   "execution_count": 21,
   "metadata": {},
   "outputs": [
    {
     "data": {
      "text/plain": [
       "((150, 4), (150,))"
      ]
     },
     "execution_count": 21,
     "metadata": {},
     "output_type": "execute_result"
    }
   ],
   "source": [
    "X.shape, y.shape"
   ]
  },
  {
   "cell_type": "code",
   "execution_count": 22,
   "metadata": {},
   "outputs": [],
   "source": [
    "# Split into training and testing data\n",
    "X_train,X_test,y_train,y_test = train_test_split(X,y,test_size=0.2)"
   ]
  },
  {
   "cell_type": "code",
   "execution_count": 23,
   "metadata": {},
   "outputs": [
    {
     "data": {
      "text/plain": [
       "((120, 4), (30, 4), (120,), (30,))"
      ]
     },
     "execution_count": 23,
     "metadata": {},
     "output_type": "execute_result"
    }
   ],
   "source": [
    "X_train.shape,X_test.shape,y_train.shape,y_test.shape"
   ]
  },
  {
   "cell_type": "code",
   "execution_count": 24,
   "metadata": {},
   "outputs": [
    {
     "name": "stderr",
     "output_type": "stream",
     "text": [
      "C:\\Users\\pc\\Desktop\\heart-disease-project\\env\\lib\\site-packages\\sklearn\\linear_model\\_logistic.py:762: ConvergenceWarning: lbfgs failed to converge (status=1):\n",
      "STOP: TOTAL NO. of ITERATIONS REACHED LIMIT.\n",
      "\n",
      "Increase the number of iterations (max_iter) or scale the data as shown in:\n",
      "    https://scikit-learn.org/stable/modules/preprocessing.html\n",
      "Please also refer to the documentation for alternative solver options:\n",
      "    https://scikit-learn.org/stable/modules/linear_model.html#logistic-regression\n",
      "  n_iter_i = _check_optimize_result(\n"
     ]
    }
   ],
   "source": [
    "# Define model score function so we can test with multiple estimators\n",
    "estimate_dict = {'Logistics Regression':LogisticRegression(),\n",
    "                'KNeighborsClassifier':KNeighborsClassifier(),\n",
    "                'Random forest classifier':RandomForestClassifier()}\n",
    "def model_score(model_dict, X_train,X_test,y_train,y_test):\n",
    "    '''\n",
    "    Return scoring prediction from models in library\n",
    "    '''\n",
    "    new_dict ={}\n",
    "    for name,model in model_dict.items():\n",
    "        model.fit(X_train,y_train)\n",
    "        new_dict[name] = model.score(X_test,y_test)\n",
    "    return new_dict\n",
    "scores = model_score(estimate_dict,X_train,X_test,y_train,y_test)"
   ]
  },
  {
   "cell_type": "code",
   "execution_count": 25,
   "metadata": {},
   "outputs": [
    {
     "data": {
      "text/html": [
       "<div>\n",
       "<style scoped>\n",
       "    .dataframe tbody tr th:only-of-type {\n",
       "        vertical-align: middle;\n",
       "    }\n",
       "\n",
       "    .dataframe tbody tr th {\n",
       "        vertical-align: top;\n",
       "    }\n",
       "\n",
       "    .dataframe thead th {\n",
       "        text-align: right;\n",
       "    }\n",
       "</style>\n",
       "<table border=\"1\" class=\"dataframe\">\n",
       "  <thead>\n",
       "    <tr style=\"text-align: right;\">\n",
       "      <th></th>\n",
       "      <th>Logistics Regression</th>\n",
       "      <th>KNeighborsClassifier</th>\n",
       "      <th>Random forest classifier</th>\n",
       "    </tr>\n",
       "  </thead>\n",
       "  <tbody>\n",
       "    <tr>\n",
       "      <th>scoring</th>\n",
       "      <td>1.0</td>\n",
       "      <td>1.0</td>\n",
       "      <td>1.0</td>\n",
       "    </tr>\n",
       "  </tbody>\n",
       "</table>\n",
       "</div>"
      ],
      "text/plain": [
       "         Logistics Regression  KNeighborsClassifier  Random forest classifier\n",
       "scoring                   1.0                   1.0                       1.0"
      ]
     },
     "execution_count": 25,
     "metadata": {},
     "output_type": "execute_result"
    }
   ],
   "source": [
    "score_df = pd.DataFrame(scores, index=['scoring'])\n",
    "score_df"
   ]
  },
  {
   "cell_type": "code",
   "execution_count": 26,
   "metadata": {},
   "outputs": [],
   "source": [
    "# Let's tune KNN\n",
    "train_score=[]\n",
    "test_score = []\n",
    "neighbors=range(1,21)\n",
    "knn = KNeighborsClassifier()\n",
    "for i in neighbors:\n",
    "    knn.set_params(n_neighbors=i)\n",
    "    knn.fit(X_train,y_train)\n",
    "    train_score.append(knn.score(X_train,y_train))\n",
    "    test_score.append(knn.score(X_test,y_test))  \n",
    "    "
   ]
  },
  {
   "cell_type": "code",
   "execution_count": 27,
   "metadata": {},
   "outputs": [
    {
     "data": {
      "text/plain": [
       "[1.0,\n",
       " 0.975,\n",
       " 0.95,\n",
       " 0.9583333333333334,\n",
       " 0.9583333333333334,\n",
       " 0.9583333333333334,\n",
       " 0.9666666666666667,\n",
       " 0.9666666666666667,\n",
       " 0.9666666666666667,\n",
       " 0.975,\n",
       " 0.975,\n",
       " 0.9666666666666667,\n",
       " 0.9666666666666667,\n",
       " 0.9583333333333334,\n",
       " 0.975,\n",
       " 0.9583333333333334,\n",
       " 0.9666666666666667,\n",
       " 0.9583333333333334,\n",
       " 0.975,\n",
       " 0.9666666666666667]"
      ]
     },
     "execution_count": 27,
     "metadata": {},
     "output_type": "execute_result"
    }
   ],
   "source": [
    "train_score"
   ]
  },
  {
   "cell_type": "code",
   "execution_count": 28,
   "metadata": {},
   "outputs": [
    {
     "data": {
      "text/plain": [
       "[1.0,\n",
       " 1.0,\n",
       " 1.0,\n",
       " 1.0,\n",
       " 1.0,\n",
       " 1.0,\n",
       " 1.0,\n",
       " 1.0,\n",
       " 1.0,\n",
       " 1.0,\n",
       " 1.0,\n",
       " 1.0,\n",
       " 1.0,\n",
       " 1.0,\n",
       " 1.0,\n",
       " 1.0,\n",
       " 1.0,\n",
       " 1.0,\n",
       " 1.0,\n",
       " 0.9666666666666667]"
      ]
     },
     "execution_count": 28,
     "metadata": {},
     "output_type": "execute_result"
    }
   ],
   "source": [
    "test_score"
   ]
  },
  {
   "cell_type": "code",
   "execution_count": 29,
   "metadata": {},
   "outputs": [
    {
     "data": {
      "image/png": "[encoded data removed]",
      "text/plain": [
       "<Figure size 432x288 with 1 Axes>"
      ]
     },
     "metadata": {
      "needs_background": "light"
     },
     "output_type": "display_data"
    }
   ],
   "source": [
    "plt.plot(neighbors,train_score)\n",
    "plt.plot(neighbors,test_score)\n",
    "plt.title('Visualizing models with different n_neighbors')\n",
    "plt.xlabel('n_neighbors')\n",
    "plt.ylabel('Scoring')\n",
    "plt.legend(['Train scores','Test scores'])\n",
    "plt.xticks(np.arange(1,21,1));"
   ]
  },
  {
   "cell_type": "markdown",
   "metadata": {},
   "source": [
    "# 4.Tuning"
   ]
  },
  {
   "cell_type": "code",
   "execution_count": 30,
   "metadata": {},
   "outputs": [],
   "source": [
    "# Create a paramter grid for Randomforest Classifier\n",
    "rf_grid = {'n_estimators': np.arange(10, 1000, 50),\n",
    "          'max_depth': [None, 3, 5, 10],\n",
    "          'min_samples_split': np.arange(2, 20, 2),\n",
    "          'min_samples_leaf': np.arange(1, 20, 2)}"
   ]
  },
  {
   "cell_type": "code",
   "execution_count": 31,
   "metadata": {},
   "outputs": [
    {
     "name": "stdout",
     "output_type": "stream",
     "text": [
      "Fitting 5 folds for each of 20 candidates, totalling 100 fits\n",
      "[CV] n_estimators=110, min_samples_split=6, min_samples_leaf=11, max_depth=5 \n"
     ]
    },
    {
     "name": "stderr",
     "output_type": "stream",
     "text": [
      "[Parallel(n_jobs=1)]: Using backend SequentialBackend with 1 concurrent workers.\n"
     ]
    },
    {
     "name": "stdout",
     "output_type": "stream",
     "text": [
      "[CV]  n_estimators=110, min_samples_split=6, min_samples_leaf=11, max_depth=5, total=   0.4s\n",
      "[CV] n_estimators=110, min_samples_split=6, min_samples_leaf=11, max_depth=5 \n"
     ]
    },
    {
     "name": "stderr",
     "output_type": "stream",
     "text": [
      "[Parallel(n_jobs=1)]: Done   1 out of   1 | elapsed:    0.3s remaining:    0.0s\n"
     ]
    },
    {
     "name": "stdout",
     "output_type": "stream",
     "text": [
      "[CV]  n_estimators=110, min_samples_split=6, min_samples_leaf=11, max_depth=5, total=   0.3s\n",
      "[CV] n_estimators=110, min_samples_split=6, min_samples_leaf=11, max_depth=5 \n",
      "[CV]  n_estimators=110, min_samples_split=6, min_samples_leaf=11, max_depth=5, total=   0.3s\n",
      "[CV] n_estimators=110, min_samples_split=6, min_samples_leaf=11, max_depth=5 \n",
      "[CV]  n_estimators=110, min_samples_split=6, min_samples_leaf=11, max_depth=5, total=   0.4s\n",
      "[CV] n_estimators=110, min_samples_split=6, min_samples_leaf=11, max_depth=5 \n",
      "[CV]  n_estimators=110, min_samples_split=6, min_samples_leaf=11, max_depth=5, total=   0.3s\n",
      "[CV] n_estimators=860, min_samples_split=6, min_samples_leaf=5, max_depth=5 \n",
      "[CV]  n_estimators=860, min_samples_split=6, min_samples_leaf=5, max_depth=5, total=   2.2s\n",
      "[CV] n_estimators=860, min_samples_split=6, min_samples_leaf=5, max_depth=5 \n",
      "[CV]  n_estimators=860, min_samples_split=6, min_samples_leaf=5, max_depth=5, total=   2.3s\n",
      "[CV] n_estimators=860, min_samples_split=6, min_samples_leaf=5, max_depth=5 \n",
      "[CV]  n_estimators=860, min_samples_split=6, min_samples_leaf=5, max_depth=5, total=   2.6s\n",
      "[CV] n_estimators=860, min_samples_split=6, min_samples_leaf=5, max_depth=5 \n",
      "[CV]  n_estimators=860, min_samples_split=6, min_samples_leaf=5, max_depth=5, total=   2.9s\n",
      "[CV] n_estimators=860, min_samples_split=6, min_samples_leaf=5, max_depth=5 \n",
      "[CV]  n_estimators=860, min_samples_split=6, min_samples_leaf=5, max_depth=5, total=   2.8s\n",
      "[CV] n_estimators=610, min_samples_split=18, min_samples_leaf=19, max_depth=5 \n",
      "[CV]  n_estimators=610, min_samples_split=18, min_samples_leaf=19, max_depth=5, total=   2.0s\n",
      "[CV] n_estimators=610, min_samples_split=18, min_samples_leaf=19, max_depth=5 \n",
      "[CV]  n_estimators=610, min_samples_split=18, min_samples_leaf=19, max_depth=5, total=   1.7s\n",
      "[CV] n_estimators=610, min_samples_split=18, min_samples_leaf=19, max_depth=5 \n",
      "[CV]  n_estimators=610, min_samples_split=18, min_samples_leaf=19, max_depth=5, total=   1.8s\n",
      "[CV] n_estimators=610, min_samples_split=18, min_samples_leaf=19, max_depth=5 \n",
      "[CV]  n_estimators=610, min_samples_split=18, min_samples_leaf=19, max_depth=5, total=   1.4s\n",
      "[CV] n_estimators=610, min_samples_split=18, min_samples_leaf=19, max_depth=5 \n",
      "[CV]  n_estimators=610, min_samples_split=18, min_samples_leaf=19, max_depth=5, total=   1.9s\n",
      "[CV] n_estimators=660, min_samples_split=18, min_samples_leaf=3, max_depth=3 \n",
      "[CV]  n_estimators=660, min_samples_split=18, min_samples_leaf=3, max_depth=3, total=   3.4s\n",
      "[CV] n_estimators=660, min_samples_split=18, min_samples_leaf=3, max_depth=3 \n",
      "[CV]  n_estimators=660, min_samples_split=18, min_samples_leaf=3, max_depth=3, total=   2.5s\n",
      "[CV] n_estimators=660, min_samples_split=18, min_samples_leaf=3, max_depth=3 \n",
      "[CV]  n_estimators=660, min_samples_split=18, min_samples_leaf=3, max_depth=3, total=   1.6s\n",
      "[CV] n_estimators=660, min_samples_split=18, min_samples_leaf=3, max_depth=3 \n",
      "[CV]  n_estimators=660, min_samples_split=18, min_samples_leaf=3, max_depth=3, total=   1.6s\n",
      "[CV] n_estimators=660, min_samples_split=18, min_samples_leaf=3, max_depth=3 \n",
      "[CV]  n_estimators=660, min_samples_split=18, min_samples_leaf=3, max_depth=3, total=   1.6s\n",
      "[CV] n_estimators=10, min_samples_split=6, min_samples_leaf=13, max_depth=10 \n",
      "[CV]  n_estimators=10, min_samples_split=6, min_samples_leaf=13, max_depth=10, total=   0.0s\n",
      "[CV] n_estimators=10, min_samples_split=6, min_samples_leaf=13, max_depth=10 \n",
      "[CV]  n_estimators=10, min_samples_split=6, min_samples_leaf=13, max_depth=10, total=   0.0s\n",
      "[CV] n_estimators=10, min_samples_split=6, min_samples_leaf=13, max_depth=10 \n",
      "[CV]  n_estimators=10, min_samples_split=6, min_samples_leaf=13, max_depth=10, total=   0.0s\n",
      "[CV] n_estimators=10, min_samples_split=6, min_samples_leaf=13, max_depth=10 \n",
      "[CV]  n_estimators=10, min_samples_split=6, min_samples_leaf=13, max_depth=10, total=   0.0s\n",
      "[CV] n_estimators=10, min_samples_split=6, min_samples_leaf=13, max_depth=10 \n",
      "[CV]  n_estimators=10, min_samples_split=6, min_samples_leaf=13, max_depth=10, total=   0.0s\n",
      "[CV] n_estimators=110, min_samples_split=2, min_samples_leaf=1, max_depth=3 \n",
      "[CV]  n_estimators=110, min_samples_split=2, min_samples_leaf=1, max_depth=3, total=   0.3s\n",
      "[CV] n_estimators=110, min_samples_split=2, min_samples_leaf=1, max_depth=3 \n",
      "[CV]  n_estimators=110, min_samples_split=2, min_samples_leaf=1, max_depth=3, total=   0.3s\n",
      "[CV] n_estimators=110, min_samples_split=2, min_samples_leaf=1, max_depth=3 \n",
      "[CV]  n_estimators=110, min_samples_split=2, min_samples_leaf=1, max_depth=3, total=   0.3s\n",
      "[CV] n_estimators=110, min_samples_split=2, min_samples_leaf=1, max_depth=3 \n",
      "[CV]  n_estimators=110, min_samples_split=2, min_samples_leaf=1, max_depth=3, total=   0.3s\n",
      "[CV] n_estimators=110, min_samples_split=2, min_samples_leaf=1, max_depth=3 \n",
      "[CV]  n_estimators=110, min_samples_split=2, min_samples_leaf=1, max_depth=3, total=   0.3s\n",
      "[CV] n_estimators=610, min_samples_split=8, min_samples_leaf=17, max_depth=3 \n",
      "[CV]  n_estimators=610, min_samples_split=8, min_samples_leaf=17, max_depth=3, total=   1.4s\n",
      "[CV] n_estimators=610, min_samples_split=8, min_samples_leaf=17, max_depth=3 \n",
      "[CV]  n_estimators=610, min_samples_split=8, min_samples_leaf=17, max_depth=3, total=   1.4s\n",
      "[CV] n_estimators=610, min_samples_split=8, min_samples_leaf=17, max_depth=3 \n",
      "[CV]  n_estimators=610, min_samples_split=8, min_samples_leaf=17, max_depth=3, total=   1.4s\n",
      "[CV] n_estimators=610, min_samples_split=8, min_samples_leaf=17, max_depth=3 \n",
      "[CV]  n_estimators=610, min_samples_split=8, min_samples_leaf=17, max_depth=3, total=   1.4s\n",
      "[CV] n_estimators=610, min_samples_split=8, min_samples_leaf=17, max_depth=3 \n",
      "[CV]  n_estimators=610, min_samples_split=8, min_samples_leaf=17, max_depth=3, total=   1.5s\n",
      "[CV] n_estimators=860, min_samples_split=8, min_samples_leaf=15, max_depth=5 \n",
      "[CV]  n_estimators=860, min_samples_split=8, min_samples_leaf=15, max_depth=5, total=   2.0s\n",
      "[CV] n_estimators=860, min_samples_split=8, min_samples_leaf=15, max_depth=5 \n",
      "[CV]  n_estimators=860, min_samples_split=8, min_samples_leaf=15, max_depth=5, total=   2.0s\n",
      "[CV] n_estimators=860, min_samples_split=8, min_samples_leaf=15, max_depth=5 \n",
      "[CV]  n_estimators=860, min_samples_split=8, min_samples_leaf=15, max_depth=5, total=   2.0s\n",
      "[CV] n_estimators=860, min_samples_split=8, min_samples_leaf=15, max_depth=5 \n",
      "[CV]  n_estimators=860, min_samples_split=8, min_samples_leaf=15, max_depth=5, total=   1.9s\n",
      "[CV] n_estimators=860, min_samples_split=8, min_samples_leaf=15, max_depth=5 \n",
      "[CV]  n_estimators=860, min_samples_split=8, min_samples_leaf=15, max_depth=5, total=   2.0s\n",
      "[CV] n_estimators=560, min_samples_split=6, min_samples_leaf=17, max_depth=5 \n",
      "[CV]  n_estimators=560, min_samples_split=6, min_samples_leaf=17, max_depth=5, total=   1.3s\n",
      "[CV] n_estimators=560, min_samples_split=6, min_samples_leaf=17, max_depth=5 \n",
      "[CV]  n_estimators=560, min_samples_split=6, min_samples_leaf=17, max_depth=5, total=   1.3s\n",
      "[CV] n_estimators=560, min_samples_split=6, min_samples_leaf=17, max_depth=5 \n",
      "[CV]  n_estimators=560, min_samples_split=6, min_samples_leaf=17, max_depth=5, total=   1.3s\n",
      "[CV] n_estimators=560, min_samples_split=6, min_samples_leaf=17, max_depth=5 \n",
      "[CV]  n_estimators=560, min_samples_split=6, min_samples_leaf=17, max_depth=5, total=   1.4s\n",
      "[CV] n_estimators=560, min_samples_split=6, min_samples_leaf=17, max_depth=5 \n",
      "[CV]  n_estimators=560, min_samples_split=6, min_samples_leaf=17, max_depth=5, total=   1.3s\n",
      "[CV] n_estimators=60, min_samples_split=12, min_samples_leaf=11, max_depth=None \n",
      "[CV]  n_estimators=60, min_samples_split=12, min_samples_leaf=11, max_depth=None, total=   0.1s\n",
      "[CV] n_estimators=60, min_samples_split=12, min_samples_leaf=11, max_depth=None \n",
      "[CV]  n_estimators=60, min_samples_split=12, min_samples_leaf=11, max_depth=None, total=   0.1s\n",
      "[CV] n_estimators=60, min_samples_split=12, min_samples_leaf=11, max_depth=None \n",
      "[CV]  n_estimators=60, min_samples_split=12, min_samples_leaf=11, max_depth=None, total=   0.2s\n",
      "[CV] n_estimators=60, min_samples_split=12, min_samples_leaf=11, max_depth=None \n",
      "[CV]  n_estimators=60, min_samples_split=12, min_samples_leaf=11, max_depth=None, total=   0.2s\n",
      "[CV] n_estimators=60, min_samples_split=12, min_samples_leaf=11, max_depth=None \n",
      "[CV]  n_estimators=60, min_samples_split=12, min_samples_leaf=11, max_depth=None, total=   0.1s\n",
      "[CV] n_estimators=160, min_samples_split=18, min_samples_leaf=11, max_depth=None \n"
     ]
    },
    {
     "name": "stdout",
     "output_type": "stream",
     "text": [
      "[CV]  n_estimators=160, min_samples_split=18, min_samples_leaf=11, max_depth=None, total=   0.4s\n",
      "[CV] n_estimators=160, min_samples_split=18, min_samples_leaf=11, max_depth=None \n",
      "[CV]  n_estimators=160, min_samples_split=18, min_samples_leaf=11, max_depth=None, total=   0.4s\n",
      "[CV] n_estimators=160, min_samples_split=18, min_samples_leaf=11, max_depth=None \n",
      "[CV]  n_estimators=160, min_samples_split=18, min_samples_leaf=11, max_depth=None, total=   0.4s\n",
      "[CV] n_estimators=160, min_samples_split=18, min_samples_leaf=11, max_depth=None \n",
      "[CV]  n_estimators=160, min_samples_split=18, min_samples_leaf=11, max_depth=None, total=   0.5s\n",
      "[CV] n_estimators=160, min_samples_split=18, min_samples_leaf=11, max_depth=None \n",
      "[CV]  n_estimators=160, min_samples_split=18, min_samples_leaf=11, max_depth=None, total=   0.4s\n",
      "[CV] n_estimators=160, min_samples_split=18, min_samples_leaf=5, max_depth=3 \n",
      "[CV]  n_estimators=160, min_samples_split=18, min_samples_leaf=5, max_depth=3, total=   0.4s\n",
      "[CV] n_estimators=160, min_samples_split=18, min_samples_leaf=5, max_depth=3 \n",
      "[CV]  n_estimators=160, min_samples_split=18, min_samples_leaf=5, max_depth=3, total=   0.4s\n",
      "[CV] n_estimators=160, min_samples_split=18, min_samples_leaf=5, max_depth=3 \n",
      "[CV]  n_estimators=160, min_samples_split=18, min_samples_leaf=5, max_depth=3, total=   0.4s\n",
      "[CV] n_estimators=160, min_samples_split=18, min_samples_leaf=5, max_depth=3 \n",
      "[CV]  n_estimators=160, min_samples_split=18, min_samples_leaf=5, max_depth=3, total=   0.4s\n",
      "[CV] n_estimators=160, min_samples_split=18, min_samples_leaf=5, max_depth=3 \n",
      "[CV]  n_estimators=160, min_samples_split=18, min_samples_leaf=5, max_depth=3, total=   0.4s\n",
      "[CV] n_estimators=560, min_samples_split=14, min_samples_leaf=19, max_depth=10 \n",
      "[CV]  n_estimators=560, min_samples_split=14, min_samples_leaf=19, max_depth=10, total=   1.3s\n",
      "[CV] n_estimators=560, min_samples_split=14, min_samples_leaf=19, max_depth=10 \n",
      "[CV]  n_estimators=560, min_samples_split=14, min_samples_leaf=19, max_depth=10, total=   1.3s\n",
      "[CV] n_estimators=560, min_samples_split=14, min_samples_leaf=19, max_depth=10 \n",
      "[CV]  n_estimators=560, min_samples_split=14, min_samples_leaf=19, max_depth=10, total=   1.5s\n",
      "[CV] n_estimators=560, min_samples_split=14, min_samples_leaf=19, max_depth=10 \n",
      "[CV]  n_estimators=560, min_samples_split=14, min_samples_leaf=19, max_depth=10, total=   1.3s\n",
      "[CV] n_estimators=560, min_samples_split=14, min_samples_leaf=19, max_depth=10 \n",
      "[CV]  n_estimators=560, min_samples_split=14, min_samples_leaf=19, max_depth=10, total=   1.3s\n",
      "[CV] n_estimators=60, min_samples_split=12, min_samples_leaf=1, max_depth=3 \n",
      "[CV]  n_estimators=60, min_samples_split=12, min_samples_leaf=1, max_depth=3, total=   0.1s\n",
      "[CV] n_estimators=60, min_samples_split=12, min_samples_leaf=1, max_depth=3 \n",
      "[CV]  n_estimators=60, min_samples_split=12, min_samples_leaf=1, max_depth=3, total=   0.1s\n",
      "[CV] n_estimators=60, min_samples_split=12, min_samples_leaf=1, max_depth=3 \n",
      "[CV]  n_estimators=60, min_samples_split=12, min_samples_leaf=1, max_depth=3, total=   0.1s\n",
      "[CV] n_estimators=60, min_samples_split=12, min_samples_leaf=1, max_depth=3 \n",
      "[CV]  n_estimators=60, min_samples_split=12, min_samples_leaf=1, max_depth=3, total=   0.2s\n",
      "[CV] n_estimators=60, min_samples_split=12, min_samples_leaf=1, max_depth=3 \n",
      "[CV]  n_estimators=60, min_samples_split=12, min_samples_leaf=1, max_depth=3, total=   0.1s\n",
      "[CV] n_estimators=960, min_samples_split=10, min_samples_leaf=15, max_depth=5 \n",
      "[CV]  n_estimators=960, min_samples_split=10, min_samples_leaf=15, max_depth=5, total=   2.2s\n",
      "[CV] n_estimators=960, min_samples_split=10, min_samples_leaf=15, max_depth=5 \n",
      "[CV]  n_estimators=960, min_samples_split=10, min_samples_leaf=15, max_depth=5, total=   2.2s\n",
      "[CV] n_estimators=960, min_samples_split=10, min_samples_leaf=15, max_depth=5 \n",
      "[CV]  n_estimators=960, min_samples_split=10, min_samples_leaf=15, max_depth=5, total=   2.2s\n",
      "[CV] n_estimators=960, min_samples_split=10, min_samples_leaf=15, max_depth=5 \n",
      "[CV]  n_estimators=960, min_samples_split=10, min_samples_leaf=15, max_depth=5, total=   2.2s\n",
      "[CV] n_estimators=960, min_samples_split=10, min_samples_leaf=15, max_depth=5 \n",
      "[CV]  n_estimators=960, min_samples_split=10, min_samples_leaf=15, max_depth=5, total=   4.4s\n",
      "[CV] n_estimators=10, min_samples_split=12, min_samples_leaf=3, max_depth=None \n",
      "[CV]  n_estimators=10, min_samples_split=12, min_samples_leaf=3, max_depth=None, total=   0.1s\n",
      "[CV] n_estimators=10, min_samples_split=12, min_samples_leaf=3, max_depth=None \n",
      "[CV]  n_estimators=10, min_samples_split=12, min_samples_leaf=3, max_depth=None, total=   0.1s\n",
      "[CV] n_estimators=10, min_samples_split=12, min_samples_leaf=3, max_depth=None \n",
      "[CV]  n_estimators=10, min_samples_split=12, min_samples_leaf=3, max_depth=None, total=   0.1s\n",
      "[CV] n_estimators=10, min_samples_split=12, min_samples_leaf=3, max_depth=None \n",
      "[CV]  n_estimators=10, min_samples_split=12, min_samples_leaf=3, max_depth=None, total=   0.0s\n",
      "[CV] n_estimators=10, min_samples_split=12, min_samples_leaf=3, max_depth=None \n",
      "[CV]  n_estimators=10, min_samples_split=12, min_samples_leaf=3, max_depth=None, total=   0.0s\n",
      "[CV] n_estimators=560, min_samples_split=4, min_samples_leaf=13, max_depth=5 \n",
      "[CV]  n_estimators=560, min_samples_split=4, min_samples_leaf=13, max_depth=5, total=   2.8s\n",
      "[CV] n_estimators=560, min_samples_split=4, min_samples_leaf=13, max_depth=5 \n",
      "[CV]  n_estimators=560, min_samples_split=4, min_samples_leaf=13, max_depth=5, total=   3.1s\n",
      "[CV] n_estimators=560, min_samples_split=4, min_samples_leaf=13, max_depth=5 \n",
      "[CV]  n_estimators=560, min_samples_split=4, min_samples_leaf=13, max_depth=5, total=   3.1s\n",
      "[CV] n_estimators=560, min_samples_split=4, min_samples_leaf=13, max_depth=5 \n",
      "[CV]  n_estimators=560, min_samples_split=4, min_samples_leaf=13, max_depth=5, total=   2.5s\n",
      "[CV] n_estimators=560, min_samples_split=4, min_samples_leaf=13, max_depth=5 \n",
      "[CV]  n_estimators=560, min_samples_split=4, min_samples_leaf=13, max_depth=5, total=   2.6s\n",
      "[CV] n_estimators=10, min_samples_split=14, min_samples_leaf=13, max_depth=3 \n",
      "[CV]  n_estimators=10, min_samples_split=14, min_samples_leaf=13, max_depth=3, total=   0.1s\n",
      "[CV] n_estimators=10, min_samples_split=14, min_samples_leaf=13, max_depth=3 \n",
      "[CV]  n_estimators=10, min_samples_split=14, min_samples_leaf=13, max_depth=3, total=   0.1s\n",
      "[CV] n_estimators=10, min_samples_split=14, min_samples_leaf=13, max_depth=3 \n",
      "[CV]  n_estimators=10, min_samples_split=14, min_samples_leaf=13, max_depth=3, total=   0.1s\n",
      "[CV] n_estimators=10, min_samples_split=14, min_samples_leaf=13, max_depth=3 \n",
      "[CV]  n_estimators=10, min_samples_split=14, min_samples_leaf=13, max_depth=3, total=   0.1s\n",
      "[CV] n_estimators=10, min_samples_split=14, min_samples_leaf=13, max_depth=3 \n",
      "[CV]  n_estimators=10, min_samples_split=14, min_samples_leaf=13, max_depth=3, total=   0.2s\n",
      "[CV] n_estimators=710, min_samples_split=12, min_samples_leaf=17, max_depth=10 \n",
      "[CV]  n_estimators=710, min_samples_split=12, min_samples_leaf=17, max_depth=10, total=   4.8s\n",
      "[CV] n_estimators=710, min_samples_split=12, min_samples_leaf=17, max_depth=10 \n",
      "[CV]  n_estimators=710, min_samples_split=12, min_samples_leaf=17, max_depth=10, total=   3.6s\n",
      "[CV] n_estimators=710, min_samples_split=12, min_samples_leaf=17, max_depth=10 \n",
      "[CV]  n_estimators=710, min_samples_split=12, min_samples_leaf=17, max_depth=10, total=   2.3s\n",
      "[CV] n_estimators=710, min_samples_split=12, min_samples_leaf=17, max_depth=10 \n",
      "[CV]  n_estimators=710, min_samples_split=12, min_samples_leaf=17, max_depth=10, total=   2.0s\n",
      "[CV] n_estimators=710, min_samples_split=12, min_samples_leaf=17, max_depth=10 \n",
      "[CV]  n_estimators=710, min_samples_split=12, min_samples_leaf=17, max_depth=10, total=   2.0s\n",
      "[CV] n_estimators=860, min_samples_split=18, min_samples_leaf=1, max_depth=10 \n",
      "[CV]  n_estimators=860, min_samples_split=18, min_samples_leaf=1, max_depth=10, total=   2.2s\n",
      "[CV] n_estimators=860, min_samples_split=18, min_samples_leaf=1, max_depth=10 \n",
      "[CV]  n_estimators=860, min_samples_split=18, min_samples_leaf=1, max_depth=10, total=   2.0s\n",
      "[CV] n_estimators=860, min_samples_split=18, min_samples_leaf=1, max_depth=10 \n",
      "[CV]  n_estimators=860, min_samples_split=18, min_samples_leaf=1, max_depth=10, total=   2.6s\n",
      "[CV] n_estimators=860, min_samples_split=18, min_samples_leaf=1, max_depth=10 \n"
     ]
    },
    {
     "name": "stdout",
     "output_type": "stream",
     "text": [
      "[CV]  n_estimators=860, min_samples_split=18, min_samples_leaf=1, max_depth=10, total=   5.2s\n",
      "[CV] n_estimators=860, min_samples_split=18, min_samples_leaf=1, max_depth=10 \n",
      "[CV]  n_estimators=860, min_samples_split=18, min_samples_leaf=1, max_depth=10, total=   2.5s\n"
     ]
    },
    {
     "name": "stderr",
     "output_type": "stream",
     "text": [
      "[Parallel(n_jobs=1)]: Done 100 out of 100 | elapsed:  2.1min finished\n"
     ]
    },
    {
     "data": {
      "text/plain": [
       "RandomizedSearchCV(cv=5, estimator=RandomForestClassifier(), n_iter=20,\n",
       "                   param_distributions={'max_depth': [None, 3, 5, 10],\n",
       "                                        'min_samples_leaf': array([ 1,  3,  5,  7,  9, 11, 13, 15, 17, 19]),\n",
       "                                        'min_samples_split': array([ 2,  4,  6,  8, 10, 12, 14, 16, 18]),\n",
       "                                        'n_estimators': array([ 10,  60, 110, 160, 210, 260, 310, 360, 410, 460, 510, 560, 610,\n",
       "       660, 710, 760, 810, 860, 910, 960])},\n",
       "                   verbose=2)"
      ]
     },
     "execution_count": 31,
     "metadata": {},
     "output_type": "execute_result"
    }
   ],
   "source": [
    "rf_log_grid = RandomizedSearchCV(RandomForestClassifier(),\n",
    "                               param_distributions= rf_grid,\n",
    "                               cv=5,\n",
    "                               verbose=2,\n",
    "                               n_iter=20)\n",
    "rf_log_grid.fit(X_train,y_train)"
   ]
  },
  {
   "cell_type": "code",
   "execution_count": 32,
   "metadata": {},
   "outputs": [
    {
     "data": {
      "text/plain": [
       "{'n_estimators': 10,\n",
       " 'min_samples_split': 6,\n",
       " 'min_samples_leaf': 13,\n",
       " 'max_depth': 10}"
      ]
     },
     "execution_count": 32,
     "metadata": {},
     "output_type": "execute_result"
    }
   ],
   "source": [
    "rf_log_grid.best_params_"
   ]
  },
  {
   "cell_type": "code",
   "execution_count": 33,
   "metadata": {},
   "outputs": [],
   "source": [
    "rnn = RandomForestClassifier(n_estimators= 960, min_samples_split= 6,\n",
    " min_samples_leaf= 17,\n",
    " max_depth= 3)"
   ]
  },
  {
   "cell_type": "code",
   "execution_count": 35,
   "metadata": {},
   "outputs": [],
   "source": [
    "from sklearn.model_selection import cross_val_score"
   ]
  },
  {
   "cell_type": "code",
   "execution_count": 36,
   "metadata": {},
   "outputs": [],
   "source": [
    "cv_precision = np.mean(cross_val_score(rnn,X,y,scoring='accuracy',cv=5))"
   ]
  },
  {
   "cell_type": "code",
   "execution_count": 40,
   "metadata": {},
   "outputs": [],
   "source": [
    "cv_recall = np.mean(cross_val_score(rnn,X,y,scoring='f1_micro',cv=5))"
   ]
  },
  {
   "cell_type": "code",
   "execution_count": 43,
   "metadata": {},
   "outputs": [
    {
     "data": {
      "text/html": [
       "<div>\n",
       "<style scoped>\n",
       "    .dataframe tbody tr th:only-of-type {\n",
       "        vertical-align: middle;\n",
       "    }\n",
       "\n",
       "    .dataframe tbody tr th {\n",
       "        vertical-align: top;\n",
       "    }\n",
       "\n",
       "    .dataframe thead th {\n",
       "        text-align: right;\n",
       "    }\n",
       "</style>\n",
       "<table border=\"1\" class=\"dataframe\">\n",
       "  <thead>\n",
       "    <tr style=\"text-align: right;\">\n",
       "      <th></th>\n",
       "      <th>0</th>\n",
       "    </tr>\n",
       "  </thead>\n",
       "  <tbody>\n",
       "    <tr>\n",
       "      <th>Accuracy</th>\n",
       "      <td>0.946667</td>\n",
       "    </tr>\n",
       "    <tr>\n",
       "      <th>F1 micro</th>\n",
       "      <td>0.946667</td>\n",
       "    </tr>\n",
       "  </tbody>\n",
       "</table>\n",
       "</div>"
      ],
      "text/plain": [
       "                 0\n",
       "Accuracy  0.946667\n",
       "F1 micro  0.946667"
      ]
     },
     "execution_count": 43,
     "metadata": {},
     "output_type": "execute_result"
    }
   ],
   "source": [
    "pd.DataFrame([cv_precision, cv_recall],index=['Accuracy','F1 micro'])"
   ]
  },
  {
   "cell_type": "code",
   "execution_count": 45,
   "metadata": {},
   "outputs": [
    {
     "data": {
      "text/plain": [
       "RandomForestClassifier(max_depth=3, min_samples_leaf=17, min_samples_split=6,\n",
       "                       n_estimators=960)"
      ]
     },
     "execution_count": 45,
     "metadata": {},
     "output_type": "execute_result"
    }
   ],
   "source": [
    "rnn.fit(X_train,y_train)"
   ]
  },
  {
   "cell_type": "code",
   "execution_count": 47,
   "metadata": {},
   "outputs": [],
   "source": [
    "y_preds=rnn.predict(X_test)"
   ]
  },
  {
   "cell_type": "code",
   "execution_count": 48,
   "metadata": {},
   "outputs": [
    {
     "data": {
      "image/png": "[encoded data removed]",
      "text/plain": [
       "<Figure size 216x216 with 1 Axes>"
      ]
     },
     "metadata": {
      "needs_background": "light"
     },
     "output_type": "display_data"
    }
   ],
   "source": [
    "def plot_conf_mat(y_test, y_preds):\n",
    "    '''\n",
    "    This function plot confusion matrix with heatmap\n",
    "    '''\n",
    "    fig, ax = plt.subplots(figsize=(3,3))\n",
    "    ax = sns.heatmap(confusion_matrix(y_test, y_preds),\n",
    "                    cbar= False,\n",
    "                    annot= True)\n",
    "    plt.xlabel('Truth labels')\n",
    "    plt.ylabel('Predicted label')\n",
    "    \n",
    "plot_conf_mat(y_test, y_preds)"
   ]
  },
  {
   "cell_type": "code",
   "execution_count": 49,
   "metadata": {},
   "outputs": [
    {
     "name": "stdout",
     "output_type": "stream",
     "text": [
      "              precision    recall  f1-score   support\n",
      "\n",
      "           0       1.00      1.00      1.00        12\n",
      "           1       1.00      1.00      1.00        12\n",
      "           2       1.00      1.00      1.00         6\n",
      "\n",
      "    accuracy                           1.00        30\n",
      "   macro avg       1.00      1.00      1.00        30\n",
      "weighted avg       1.00      1.00      1.00        30\n",
      "\n"
     ]
    }
   ],
   "source": [
    "print(classification_report(y_test,y_preds))"
   ]
  },
  {
   "cell_type": "markdown",
   "metadata": {},
   "source": []
  }
 ],
 "metadata": {
  "kernelspec": {
   "display_name": "Python 3",
   "language": "python",
   "name": "python3"
  },
  "language_info": {
   "codemirror_mode": {
    "name": "ipython",
    "version": 3
   },
   "file_extension": ".py",
   "mimetype": "text/x-python",
   "name": "python",
   "nbconvert_exporter": "python",
   "pygments_lexer": "ipython3",
   "version": "3.8.5"
  }
 },
 "nbformat": 4,
 "nbformat_minor": 4
}
